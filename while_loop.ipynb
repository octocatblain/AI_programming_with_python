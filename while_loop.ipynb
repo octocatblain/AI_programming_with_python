{
 "cells": [
  {
   "cell_type": "markdown",
   "metadata": {},
   "source": [
    "## Practice: Factorials with While Loops\n",
    "Find the factorial of a number using a while loop.\n",
    "\n",
    "A **factorial** of a whole number is that number multiplied by every whole number between itself and 1. For example, 6 factorial (written \"6!\") equals 6 x 5 x 4 x 3 x 2 x 1 = 720. So 6! = 720.\n",
    "\n",
    "We can write a while loop to take any given number and figure out what its factorial is.\n",
    "\n",
    "Example: If `number` is 6, your code should compute and print the `product`, 720."
   ]
  },
  {
   "cell_type": "code",
   "execution_count": null,
   "metadata": {
    "edited": true,
    "gradable": true,
    "grader_id": "i3x681jddrq",
    "udacity_user_query": ""
   },
   "outputs": [],
   "source": [
    "# number to find the factorial of\n",
    "number = 6   \n",
    "# start with our product equal to one\n",
    "product = 1\n",
    "# track the current number being multiplied\n",
    "current = 1\n",
    "# write your while loop here\n",
    "    # multiply the product so far by the current number\n",
    "while current <= number:\n",
    "    product *= current\n",
    "    current += 1\n",
    "    \n",
    "    # increment current with each iteration until it reaches number\n",
    "print(product)"
   ]
  },
  {
   "cell_type": "markdown",
   "metadata": {},
   "source": [
    "## Practice: Factorials with For Loops\n",
    "Now use a for loop to find the factorial!\n",
    "\n",
    "It will now be great practice for you to try to revise the code you wrote above to find the factorial of a number, but this time, using a for loop. Try it in the code editor below!"
   ]
  },
  {
   "cell_type": "code",
   "execution_count": 3,
   "metadata": {
    "edited": true,
    "gradable": true,
    "grader_id": "uz6aoradyj",
    "udacity_user_query": ""
   },
   "outputs": [
    {
     "name": "stdout",
     "output_type": "stream",
     "text": [
      "720\n"
     ]
    }
   ],
   "source": [
    "# number to find the factorial of\n",
    "number = 6   \n",
    "# start with our product equal to one\n",
    "product = 1\n",
    "# write your for loop here\n",
    "\n",
    "for current in range(1, number + 1):\n",
    "    product *= current\n",
    "    \n",
    "print(product)"
   ]
  },
  {
   "cell_type": "code",
   "execution_count": null,
   "metadata": {},
   "outputs": [],
   "source": []
  },
  {
   "cell_type": "code",
   "execution_count": null,
   "metadata": {},
   "outputs": [],
   "source": []
  }
 ],
 "metadata": {
  "grader_mode": "",
  "kernelspec": {
   "display_name": "Python 3",
   "language": "python",
   "name": "python3"
  },
  "language_info": {
   "codemirror_mode": {
    "name": "ipython",
    "version": 3
   },
   "file_extension": ".py",
   "mimetype": "text/x-python",
   "name": "python",
   "nbconvert_exporter": "python",
   "pygments_lexer": "ipython3",
   "version": "3.6.3"
  },
  "showGradeBtn": true
 },
 "nbformat": 4,
 "nbformat_minor": 2
}
