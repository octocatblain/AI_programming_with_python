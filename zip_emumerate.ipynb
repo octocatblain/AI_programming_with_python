{
 "cells": [
  {
   "cell_type": "markdown",
   "metadata": {},
   "source": [
    "## Quiz: Zip Coordinates\n",
    "Use `zip` to write a for loop that creates a string specifying the label and coordinates of each point and appends it to the list `points`. \n",
    "\n",
    "Each string should be formatted as `label: x, y, z`. For example, the string for the first coordinate should be `F: 23, 677, 4`."
   ]
  },
  {
   "cell_type": "code",
   "execution_count": 45,
   "metadata": {
    "edited": true,
    "gradable": true,
    "grader_id": "42xb3tljhbw",
    "udacity_user_query": ""
   },
   "outputs": [
    {
     "name": "stdout",
     "output_type": "stream",
     "text": [
      "['F: 23, 677, 4', 'J: 53, 233, 16', 'A: 2, 405, -6', 'Q: -12, 433, -42', 'Y: 95, 905, 3', 'B: 103, 376, -6', 'W: 14, 432, 23', 'X: -5, 445, -1']\n"
     ]
    }
   ],
   "source": [
    "x_coord = [23, 53, 2, -12, 95, 103, 14, -5]\n",
    "y_coord = [677, 233, 405, 433, 905, 376, 432, 445]\n",
    "z_coord = [4, 16, -6, -42, 3, -6, 23, -1]\n",
    "labels = [\"F\", \"J\", \"A\", \"Q\", \"Y\", \"B\", \"W\", \"X\"]\n",
    "points = []\n",
    "# write your for loop here\n",
    "for label,x,y,z in zip(labels, x_coord, y_coord, z_coord):\n",
    "        coords = f\"{label}: {x}, {y}, {z}\"\n",
    "        points.append(coords)\n",
    "print(points)"
   ]
  },
  {
   "cell_type": "markdown",
   "metadata": {},
   "source": [
    "## Quiz: Zip Lists to a Dictionary\n",
    "Use `zip` to create a dictionary `cast` that uses `names` as keys and `heights` as values."
   ]
  },
  {
   "cell_type": "code",
   "execution_count": 53,
   "metadata": {
    "edited": true,
    "gradable": true,
    "grader_id": "am8eew0rwu4",
    "udacity_user_query": ""
   },
   "outputs": [
    {
     "name": "stdout",
     "output_type": "stream",
     "text": [
      "{'Barney': 72, 'Robin': 68, 'Ted': 72, 'Lily': 66, 'Marshall': 76}\n"
     ]
    }
   ],
   "source": [
    "cast_names = [\"Barney\", \"Robin\", \"Ted\", \"Lily\", \"Marshall\"]\n",
    "cast_heights = [72, 68, 72, 66, 76]\n",
    "\n",
    "cast = {}\n",
    "\n",
    "cast = dict(zip(cast_names, cast_heights))\n",
    "print(cast) # replace with your code"
   ]
  },
  {
   "cell_type": "markdown",
   "metadata": {},
   "source": [
    "## Quiz: Unzip Tuples\n",
    "Unzip the `cast` tuple into two `names` and `heights` tuples."
   ]
  },
  {
   "cell_type": "code",
   "execution_count": 65,
   "metadata": {
    "edited": true,
    "gradable": true,
    "grader_id": "p9a3v6i2j8p",
    "udacity_user_query": ""
   },
   "outputs": [
    {
     "name": "stdout",
     "output_type": "stream",
     "text": [
      "('Barney', 'Robin', 'Ted', 'Lily', 'Marshall') (72, 68, 72, 66, 76)\n"
     ]
    }
   ],
   "source": [
    "cast = ((\"Barney\", 72), (\"Robin\", 68), (\"Ted\", 72), (\"Lily\", 66), (\"Marshall\", 76))\n",
    "# define names and heights here\n",
    "names, heights = zip(*cast)\n",
    "\n",
    "print(names,heights) # replace with your code"
   ]
  },
  {
   "cell_type": "markdown",
   "metadata": {},
   "source": [
    "## Quiz: Transpose with Zip\n",
    "Use `zip` to transpose `data` from a 4-by-3 matrix to a 3-by-4 matrix. There's actually a cool trick for this! Feel free to look at the solutions if you can't figure it out."
   ]
  },
  {
   "cell_type": "code",
   "execution_count": 79,
   "metadata": {
    "edited": true,
    "gradable": true,
    "grader_id": "pol2mooxbek",
    "udacity_user_query": ""
   },
   "outputs": [
    {
     "name": "stdout",
     "output_type": "stream",
     "text": [
      "((0, 3, 6, 9), (1, 4, 7, 10), (2, 5, 8, 11))\n"
     ]
    }
   ],
   "source": [
    "data = ((0, 1, 2), (3, 4, 5), (6, 7, 8), (9, 10, 11))\n",
    "# replace with your code\n",
    "\n",
    "data_transpose = tuple(zip(*data))\n",
    "print(data_transpose)"
   ]
  },
  {
   "cell_type": "markdown",
   "metadata": {},
   "source": [
    "## Quiz: Enumerate\n",
    "Use `enumerate` to modify the `cast` list so that each element contains the name followed by the character's corresponding height. For example, the first element of `cast` should change from `\"Barney Stinson\"` to `\"Barney Stinson 72\"`.\n"
   ]
  },
  {
   "cell_type": "code",
   "execution_count": 75,
   "metadata": {
    "edited": true,
    "gradable": true,
    "grader_id": "xtqkib783eo",
    "udacity_user_query": ""
   },
   "outputs": [
    {
     "name": "stdout",
     "output_type": "stream",
     "text": [
      "['Barney Stinson 72', 'Robin Scherbatsky 68', 'Ted Mosby 72', 'Lily Aldrin 66', 'Marshall Eriksen 76']\n"
     ]
    }
   ],
   "source": [
    "cast = [\"Barney Stinson\", \"Robin Scherbatsky\", \"Ted Mosby\", \"Lily Aldrin\", \"Marshall Eriksen\"]\n",
    "heights = [72, 68, 72, 66, 76]\n",
    "# write your for loop here\n",
    "cast = [f\"{name} {height}\" for name, height in zip(cast, heights)]\n",
    "print (cast) # replace with your code"
   ]
  },
  {
   "cell_type": "code",
   "execution_count": null,
   "metadata": {},
   "outputs": [],
   "source": []
  }
 ],
 "metadata": {
  "grader_mode": "",
  "kernelspec": {
   "display_name": "Python 3",
   "language": "python",
   "name": "python3"
  },
  "language_info": {
   "codemirror_mode": {
    "name": "ipython",
    "version": 3
   },
   "file_extension": ".py",
   "mimetype": "text/x-python",
   "name": "python",
   "nbconvert_exporter": "python",
   "pygments_lexer": "ipython3",
   "version": "3.6.3"
  },
  "showGradeBtn": true
 },
 "nbformat": 4,
 "nbformat_minor": 2
}
