{
 "cells": [
  {
   "cell_type": "markdown",
   "metadata": {},
   "source": [
    "# Quiz: Assign and Modify Variables\n",
    "\n",
    "Now it's your turn to work with variables. The comments in this quiz (the lines that begin with `#`) have instructions for creating and modifying variables. After each comment write a line of code that implements the instruction.\n",
    "\n",
    "Note that this code uses [scientific notation](https://en.wikipedia.org/wiki/Scientific_notation) to define large numbers. `4.445e8` is equal to `4.445 * 10 ** 8` which is equal to `444500000.0`."
   ]
  },
  {
   "cell_type": "code",
   "execution_count": 5,
   "metadata": {
    "edited": true,
    "gradable": true,
    "grader_id": "1ii09i843vz",
    "udacity_user_query": ""
   },
   "outputs": [],
   "source": [
    "# The current volume of a water reservoir (in cubic metres)\n",
    "reservoir_volume = 4.445e8\n",
    "# The amount of rainfall from a storm (in cubic metres)\n",
    "rainfall = 5e6\n",
    "\n",
    "\n",
    "# Use the multiplication assignment operator to decrease \n",
    "# the rainfall variable by 10% to account for runoff\n",
    "\n",
    "rainfall *= 0.9"
   ]
  },
  {
   "cell_type": "code",
   "execution_count": 7,
   "metadata": {
    "edited": true,
    "gradable": true,
    "grader_id": "nc2ahp6z6xr",
    "udacity_user_query": ""
   },
   "outputs": [],
   "source": [
    "# Use the addition assigment operator to add \n",
    "# the rainfall variable to the reservoir_volume variable\n",
    "\n",
    "reservoir_volume += rainfall"
   ]
  },
  {
   "cell_type": "code",
   "execution_count": 8,
   "metadata": {
    "edited": true,
    "gradable": true,
    "grader_id": "5ajrjpdoczx",
    "udacity_user_query": ""
   },
   "outputs": [],
   "source": [
    "# Use the multiplication assignment operator to increase \n",
    "# reservoir_volume by 5% to account for stormwater that \n",
    "# flows into the reservoir in the days following the storm\n",
    "\n",
    "reservoir_volume *= 1.05"
   ]
  },
  {
   "cell_type": "code",
   "execution_count": null,
   "metadata": {
    "edited": true,
    "gradable": true,
    "grader_id": "uxfx49ng0n",
    "udacity_user_query": ""
   },
   "outputs": [],
   "source": [
    "# Use the multiplication assignment operator to decrease \n",
    "# reservoir_volume by 5% to account for evaporation\n",
    "\n",
    "reservoir_volume *= 0.95"
   ]
  },
  {
   "cell_type": "code",
   "execution_count": null,
   "metadata": {
    "edited": true,
    "gradable": true,
    "grader_id": "2bakc6njrj3",
    "udacity_user_query": ""
   },
   "outputs": [],
   "source": [
    "# Use the subtraction assignment operator to subtract \n",
    "# 2.5e5 cubic metres from reservoir_volume to account \n",
    "# for water that's piped to arid regions.\n",
    "\n",
    "reservoir_volume -= 2.5e5"
   ]
  }
 ],
 "metadata": {
  "grader_mode": "",
  "kernelspec": {
   "display_name": "Python 3",
   "language": "python",
   "name": "python3"
  },
  "language_info": {
   "codemirror_mode": {
    "name": "ipython",
    "version": 3
   },
   "file_extension": ".py",
   "mimetype": "text/x-python",
   "name": "python",
   "nbconvert_exporter": "python",
   "pygments_lexer": "ipython3",
   "version": "3.6.3"
  },
  "showGradeBtn": true
 },
 "nbformat": 4,
 "nbformat_minor": 2
}
