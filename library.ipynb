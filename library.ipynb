{
 "cells": [
  {
   "cell_type": "markdown",
   "metadata": {},
   "source": [
    "## Quiz: Compute an Exponent\n",
    "\n",
    "It's your turn to import and use the `math` module. Use the `math` module to calculate `e` to the power of `3`. And assign the answer to `result`.\n",
    "\n",
    "Refer to the [math module's documentation](https://docs.python.org/3.6/library/math.html?highlight=math%20module#module-math) to find the function you need!"
   ]
  },
  {
   "cell_type": "code",
   "execution_count": 7,
   "metadata": {
    "edited": true,
    "gradable": true,
    "grader_id": "v4d7qgkduxb",
    "udacity_user_query": ""
   },
   "outputs": [
    {
     "name": "stdout",
     "output_type": "stream",
     "text": [
      "20.085536923187668\n"
     ]
    }
   ],
   "source": [
    "# calculate e to the power of 3 using the math module\n",
    "import math\n",
    "\n",
    "result = math.exp(3)\n",
    "print(result)"
   ]
  },
  {
   "cell_type": "markdown",
   "metadata": {},
   "source": [
    "## Quiz: Password Generator\n",
    "\n",
    "Write a function called `generate_password` that selects three random words from the list of words `word_list` and concatenates them into a single string. Your function should not accept any arguments and should reference the global variable `word_list` to build the password.\n",
    "To help with this, check out the `choice` function associated with the `random` module in the Standard Library."
   ]
  },
  {
   "cell_type": "code",
   "execution_count": 6,
   "metadata": {
    "edited": true,
    "gradable": true,
    "grader_id": "akvhlo9thiq",
    "udacity_user_query": ""
   },
   "outputs": [],
   "source": [
    "# TODO: First import the `random` module\n",
    "import random\n",
    "\n",
    "# We begin with an empty `word_list`\n",
    "word_file = \"words.txt\"\n",
    "word_list = []\n",
    "\n",
    "# We fill up the word_list from the `words.txt` file\n",
    "with open(word_file,'r') as words:\n",
    "    for line in words:\n",
    "        # remove white space and make everything lowercase\n",
    "        word = line.strip().lower()\n",
    "        # don't include words that are too long or too short\n",
    "        if 3 < len(word) < 8:\n",
    "            word_list.append(word)\n",
    "\n",
    "# TODO: Add your function generate_password below\n",
    "def generate_password():    \n",
    "    return random.choice(word_list) + random.choice(word_list)+random.choice(word_list)\n",
    "# It should return a string consisting of three random words \n",
    "# concatenated together without spaces\n",
    "\n",
    "# Now we test the function\n",
    "password = generate_password()"
   ]
  },
  {
   "cell_type": "code",
   "execution_count": null,
   "metadata": {},
   "outputs": [],
   "source": []
  }
 ],
 "metadata": {
  "grader_mode": "",
  "kernelspec": {
   "display_name": "Python 3",
   "language": "python",
   "name": "python3"
  },
  "language_info": {
   "codemirror_mode": {
    "name": "ipython",
    "version": 3
   },
   "file_extension": ".py",
   "mimetype": "text/x-python",
   "name": "python",
   "nbconvert_exporter": "python",
   "pygments_lexer": "ipython3",
   "version": "3.6.3"
  },
  "showGradeBtn": true
 },
 "nbformat": 4,
 "nbformat_minor": 2
}
