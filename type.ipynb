{
 "cells": [
  {
   "cell_type": "markdown",
   "metadata": {},
   "source": [
    "## Type Playground\n",
    "Use this programming space below to experiment with types of objects. Don't forget to use `print` to see the output of your code. Click `Run` from the top bar to run the code."
   ]
  },
  {
   "cell_type": "code",
   "execution_count": 3,
   "metadata": {
    "grader_id": "wt2xzg1y5tk"
   },
   "outputs": [],
   "source": [
    "# This is the type play ground\n",
    "\n"
   ]
  },
  {
   "cell_type": "markdown",
   "metadata": {},
   "source": [
    "## Quiz: Total Sales\n",
    "In this quiz, you’ll need to change the types of the input and output data in order to get the result you want.\n",
    "\n",
    "Calculate the total sales for the week from the data provided. Assign the result to a string variable with the form `\"This week's total sales: xxx\"`, where xxx will be the actual total of all the numbers. You’ll need to change the type of the input data in order to calculate that total.\n",
    "\n",
    "**Note**: While assigning `\"This week's total sales: xxx\"`, you need to take care of the spaces to get the correct answer. Don't forget to include a space after the colon `\": \"`."
   ]
  },
  {
   "cell_type": "code",
   "execution_count": 6,
   "metadata": {
    "edited": true,
    "gradable": true,
    "grader_id": "4tnm4g7x60c",
    "udacity_user_query": ""
   },
   "outputs": [],
   "source": [
    "mon_sales = int(\"121\")\n",
    "tues_sales = int(\"105\")\n",
    "wed_sales = int(\"110\")\n",
    "thurs_sales = int(\"98\")\n",
    "fri_sales = int(\"95\")\n",
    "\n",
    "#TODO: assign the total sales to a string with this format: This week's total sales: xxx\n",
    "# You will probably need to write some lines of code before the assigning statement.\n",
    "total_sales = str(mon_sales + tues_sales + wed_sales + thurs_sales + fri_sales)\n",
    "result_string = \"This week\\'s total sales: \" + total_sales"
   ]
  },
  {
   "cell_type": "code",
   "execution_count": null,
   "metadata": {
    "grader_id": "jecmcp6bbup"
   },
   "outputs": [],
   "source": []
  }
 ],
 "metadata": {
  "grader_mode": "",
  "kernelspec": {
   "display_name": "Python 3",
   "language": "python",
   "name": "python3"
  },
  "language_info": {
   "codemirror_mode": {
    "name": "ipython",
    "version": 3
   },
   "file_extension": ".py",
   "mimetype": "text/x-python",
   "name": "python",
   "nbconvert_exporter": "python",
   "pygments_lexer": "ipython3",
   "version": "3.6.3"
  },
  "showGradeBtn": true
 },
 "nbformat": 4,
 "nbformat_minor": 2
}
