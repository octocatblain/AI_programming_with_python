{
 "cells": [
  {
   "cell_type": "markdown",
   "metadata": {},
   "source": [
    "## Quiz: Guess My Number\n",
    "You decide you want to play a game where you are hiding a number from someone.  Store this number in a variable called 'answer'.  Another user provides a number called 'guess'.  By comparing 'guess' to 'answer', you inform the user if their guess is too high or too low.\n",
    "Fill in the conditionals below to inform the user about how their guess compares to the answer."
   ]
  },
  {
   "cell_type": "code",
   "execution_count": 19,
   "metadata": {
    "edited": true,
    "gradable": true,
    "grader_id": "ed6bbcl0s06",
    "udacity_user_query": ""
   },
   "outputs": [
    {
     "name": "stdout",
     "output_type": "stream",
     "text": [
      "Nice!  Your guess matched the answer!\n"
     ]
    }
   ],
   "source": [
    "# Fill in the conditionals below to inform the user about how\n",
    "# their guess compares to the answer.\n",
    "\n",
    "answer = 0 #replace 0 with a value you choose\n",
    "guess = 0 #replace 0 with a value you choose\n",
    "\n",
    "if guess < answer:\n",
    "    result = \"Oops!  Your guess was too low.\"\n",
    "elif guess > answer:\n",
    "    result = \"Oops!  Your guess was too high.\"\n",
    "else:\n",
    "    result = \"Nice!  Your guess matched the answer!\"\n",
    "\n",
    "print(result)"
   ]
  },
  {
   "cell_type": "markdown",
   "metadata": {},
   "source": [
    "## Quiz: Tax Purchase\n",
    "Depending on where an individual is from we need to tax them appropriately.  The states of CA, MN, and NY have taxes of 7.5%, 9.5%, and 8.9% respectively. Use this information to take the amount of a purchase and the corresponding state to assure that they are taxed by the right amount."
   ]
  },
  {
   "cell_type": "code",
   "execution_count": 1,
   "metadata": {
    "edited": true,
    "gradable": true,
    "grader_id": "uvjwansqags",
    "udacity_user_query": ""
   },
   "outputs": [
    {
     "name": "stdout",
     "output_type": "stream",
     "text": [
      "Since you're from CA, your total cost is 322.5.\n"
     ]
    }
   ],
   "source": [
    "state = str(input(\"Enter state Either CA, MN, or NY\"))\n",
    "purchase_amount = int(input(\"Enter amount\")) #amount of purchase\n",
    "\n",
    "if state == \"CA\":\n",
    "    tax_amount = .075\n",
    "    total_cost = purchase_amount*(1+tax_amount)\n",
    "    result = \"Since you're from {}, your total cost is {}.\".format(state, total_cost)\n",
    "\n",
    "elif state == \"MN\":\n",
    "    tax_amount = .095\n",
    "    total_cost = purchase_amount*(1+tax_amount)\n",
    "    result = \"Since you're from {}, your total cost is {}.\".format(state, total_cost)\n",
    "\n",
    "elif state == \"NY\":\n",
    "    tax_amount = .089\n",
    "    total_cost = purchase_amount*(1+tax_amount)\n",
    "    result = \"Since you're from {}, your total cost is {}.\".format(state, total_cost)\n",
    "    \n",
    "print(result)"
   ]
  },
  {
   "cell_type": "code",
   "execution_count": null,
   "metadata": {},
   "outputs": [],
   "source": []
  }
 ],
 "metadata": {
  "grader_mode": "",
  "kernelspec": {
   "display_name": "Python 3",
   "language": "python",
   "name": "python3"
  },
  "language_info": {
   "codemirror_mode": {
    "name": "ipython",
    "version": 3
   },
   "file_extension": ".py",
   "mimetype": "text/x-python",
   "name": "python",
   "nbconvert_exporter": "python",
   "pygments_lexer": "ipython3",
   "version": "3.10.12"
  },
  "showGradeBtn": true
 },
 "nbformat": 4,
 "nbformat_minor": 2
}
