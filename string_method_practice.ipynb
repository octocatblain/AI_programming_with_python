{
 "cells": [
  {
   "cell_type": "markdown",
   "metadata": {},
   "source": [
    "Answer the following questions about `verse`\n",
    "1. What is the length of the string variable `verse`?\n",
    "2. What is the index of the first occurrence of the word 'and' in `verse`?\n",
    "3. What is the index of the last occurrence of the word 'you' in `verse`?\n",
    "4. What is the count of occurrences of the word 'you' in the `verse`?"
   ]
  },
  {
   "cell_type": "code",
   "execution_count": null,
   "metadata": {},
   "outputs": [],
   "source": [
    "verse = \"If you can keep your head when all about you\\n  Are losing theirs and blaming it on you,\\nIf you can trust yourself when all men doubt you,\\n  But make allowance for their doubting too;\\nIf you can wait and not be tired by waiting,\\n  Or being lied about, don’t deal in lies,\\nOr being hated, don’t give way to hating,\\n  And yet don’t look too good, nor talk too wise:\"\n",
    "print(verse)\n",
    "\n",
    "# Use the appropriate functions and methods to answer the questions above\n",
    "# Bonus: practice using .format() to output your answers in descriptive messages!\n",
    "\n",
    "# print(len(verse))\n",
    "# print(verse.find(\"and\"))\n",
    "# print(verse.rfind(\"you\"))\n",
    "# print(verse.count(\"you\"))\n",
    "\n",
    "print(\"The length of verse is {} characters.\\n\".format(len(verse)))\n",
    "print(\"The index of the first occurrence of \\\"and\\\" in verse is {}\\n\" .format(verse.find(\"and\")))\n",
    "print(\"The index of the last occurrence of \\\"you\\\" in verse is {}\\n\" .format(verse.rfind(\"you\")))\n",
    "print(\"The count of occurrences of \\\"you\\\" in verse is {}\\n\" .format(verse.count(\"you\")))"
   ]
  },
  {
   "cell_type": "code",
   "execution_count": null,
   "metadata": {},
   "outputs": [],
   "source": []
  }
 ],
 "metadata": {
  "kernelspec": {
   "display_name": "Python 3",
   "language": "python",
   "name": "python3"
  },
  "language_info": {
   "codemirror_mode": {
    "name": "ipython",
    "version": 3
   },
   "file_extension": ".py",
   "mimetype": "text/x-python",
   "name": "python",
   "nbconvert_exporter": "python",
   "pygments_lexer": "ipython3",
   "version": "3.11.4"
  }
 },
 "nbformat": 4,
 "nbformat_minor": 2
}
