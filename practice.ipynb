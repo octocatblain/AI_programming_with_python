{
 "cells": [
  {
   "cell_type": "markdown",
   "metadata": {},
   "source": [
    "## Quiz: Count Unique Words\n",
    "\n",
    "Your task for this quiz is to find the number of unique words in the text. In the code editor below, complete these three steps to get your answer.\n",
    "\n",
    "1. Split `verse` into a list of words. **Hint:** You can use a string method you learned in the previous lesson.\n",
    "1. Convert the list into a data structure that would keep only the unique elements from the list. \n",
    "1. Print the length of the container."
   ]
  },
  {
   "cell_type": "code",
   "execution_count": 6,
   "metadata": {
    "edited": true,
    "gradable": true,
    "grader_id": "0cztd18ciiuf",
    "udacity_user_query": ""
   },
   "outputs": [
    {
     "name": "stdout",
     "output_type": "stream",
     "text": [
      "if you can keep your head when all about you are losing theirs and blaming it on you   if you can trust yourself when all men doubt you     but make allowance for their doubting too   if you can wait and not be tired by waiting      or being lied about  don’t deal in lies   or being hated  don’t give way to hating      and yet don’t look too good  nor talk too wise \n",
      "\n",
      "['if', 'you', 'can', 'keep', 'your', 'head', 'when', 'all', 'about', 'you', 'are', 'losing', 'theirs', 'and', 'blaming', 'it', 'on', 'you', '', '', 'if', 'you', 'can', 'trust', 'yourself', 'when', 'all', 'men', 'doubt', 'you', '', '', '', '', 'but', 'make', 'allowance', 'for', 'their', 'doubting', 'too', '', '', 'if', 'you', 'can', 'wait', 'and', 'not', 'be', 'tired', 'by', 'waiting', '', '', '', '', '', 'or', 'being', 'lied', 'about', '', 'don’t', 'deal', 'in', 'lies', '', '', 'or', 'being', 'hated', '', 'don’t', 'give', 'way', 'to', 'hating', '', '', '', '', '', 'and', 'yet', 'don’t', 'look', 'too', 'good', '', 'nor', 'talk', 'too', 'wise'] \n",
      "\n",
      "{'', 'be', 'all', 'trust', 'deal', 'too', 'good', 'being', 'hating', 'it', 'their', 'but', 'losing', 'and', 'look', 'you', 'make', 'in', 'doubting', 'if', 'are', 'keep', 'waiting', 'don’t', 'hated', 'about', 'head', 'talk', 'on', 'for', 'by', 'can', 'or', 'wise', 'men', 'allowance', 'wait', 'doubt', 'when', 'your', 'nor', 'yourself', 'way', 'not', 'lies', 'give', 'yet', 'lied', 'theirs', 'to', 'tired', 'blaming'} \n",
      "\n",
      "52 \n",
      "\n"
     ]
    }
   ],
   "source": [
    "verse = \"if you can keep your head when all about you are losing theirs and blaming it on you   if you can trust yourself when all men doubt you     but make allowance for their doubting too   if you can wait and not be tired by waiting      or being lied about  don’t deal in lies   or being hated  don’t give way to hating      and yet don’t look too good  nor talk too wise\"\n",
    "print(verse, '\\n')\n",
    "\n",
    "# TODO: replace None with appropriate code\n",
    "# split verse into list of words\n",
    "verse_list = verse.split(\" \")\n",
    "print(verse_list, '\\n')\n",
    "\n",
    "# TODO: replace None with appropriate code\n",
    "# convert list to a data structure that stores unique elements\n",
    "verse_set = set(verse_list)\n",
    "print(verse_set, '\\n')\n",
    "\n",
    "# TODO: replace None with appropriate code\n",
    "# find the number of unique words\n",
    "num_unique = len(verse_set)\n",
    "print(num_unique, '\\n')"
   ]
  },
  {
   "cell_type": "markdown",
   "metadata": {},
   "source": [
    "## Quiz: Verse Dictionary\n",
    "\n",
    "In the code cell below, you'll find a dictionary containing the unique words of `verse` stored as keys and the number of times they appear in `verse` stored as values. Use this dictionary to answer the following questions. **Submit these answers in the quiz below this Jupyter Notebook.**\n",
    "\n",
    "Try to answer these using code, rather than inspecting the dictionary manually!\n",
    "\n",
    "1. How many unique words are in *verse_dict*?\n",
    "1. Is the key \"breathe\" in *verse_dict*?\n",
    "1. What is the first element in the list created when *verse_dict* is sorted by keys?\n",
    "**Hint:** Use the appropriate dictionary method to get a list of its keys, and then sort that list. Use this list of keys to answer the next two questions as well.\n",
    "1. Which key (word) has the highest value in *verse_dict*?"
   ]
  },
  {
   "cell_type": "code",
   "execution_count": 2,
   "metadata": {
    "grader_id": "v3b32zkmzw"
   },
   "outputs": [
    {
     "name": "stdout",
     "output_type": "stream",
     "text": [
      "{'if': 3, 'you': 6, 'can': 3, 'keep': 1, 'your': 1, 'head': 1, 'when': 2, 'all': 2, 'about': 2, 'are': 1, 'losing': 1, 'theirs': 1, 'and': 3, 'blaming': 1, 'it': 1, 'on': 1, 'trust': 1, 'yourself': 1, 'men': 1, 'doubt': 1, 'but': 1, 'make': 1, 'allowance': 1, 'for': 1, 'their': 1, 'doubting': 1, 'too': 3, 'wait': 1, 'not': 1, 'be': 1, 'tired': 1, 'by': 1, 'waiting': 1, 'or': 2, 'being': 2, 'lied': 1, \"don't\": 3, 'deal': 1, 'in': 1, 'lies': 1, 'hated': 1, 'give': 1, 'way': 1, 'to': 1, 'hating': 1, 'yet': 1, 'look': 1, 'good': 1, 'nor': 1, 'talk': 1, 'wise': 1} \n",
      "\n"
     ]
    }
   ],
   "source": [
    "verse_dict =  {'if': 3, 'you': 6, 'can': 3, 'keep': 1, 'your': 1, 'head': 1, 'when': 2, 'all': 2, 'about': 2, 'are': 1, 'losing': 1, 'theirs': 1, 'and': 3, 'blaming': 1, 'it': 1, 'on': 1, 'trust': 1, 'yourself': 1, 'men': 1, 'doubt': 1, 'but': 1, 'make': 1, 'allowance': 1, 'for': 1, 'their': 1, 'doubting': 1, 'too': 3, 'wait': 1, 'not': 1, 'be': 1, 'tired': 1, 'by': 1, 'waiting': 1, 'or': 2, 'being': 2, 'lied': 1, 'don\\'t': 3, 'deal': 1, 'in': 1, 'lies': 1, 'hated': 1, 'give': 1, 'way': 1, 'to': 1, 'hating': 1, 'yet': 1, 'look': 1, 'good': 1, 'nor': 1, 'talk': 1, 'wise': 1}\n",
    "print(verse_dict, '\\n')"
   ]
  },
  {
   "cell_type": "code",
   "execution_count": 3,
   "metadata": {
    "grader_id": "8gph6wvble7"
   },
   "outputs": [
    {
     "name": "stdout",
     "output_type": "stream",
     "text": [
      "51\n"
     ]
    }
   ],
   "source": [
    "# find number of unique keys in the dictionary\n",
    "num_keys = len(set(verse_dict))\n",
    "print(num_keys)"
   ]
  },
  {
   "cell_type": "code",
   "execution_count": 4,
   "metadata": {
    "grader_id": "b4tl88h0e0s"
   },
   "outputs": [
    {
     "name": "stdout",
     "output_type": "stream",
     "text": [
      "False\n"
     ]
    }
   ],
   "source": [
    "# find whether 'breathe' is a key in the dictionary\n",
    "contains_breathe = \"breathe\" in verse_dict\n",
    "print(contains_breathe)"
   ]
  },
  {
   "cell_type": "code",
   "execution_count": 11,
   "metadata": {
    "grader_id": "a9lupksx7il"
   },
   "outputs": [
    {
     "name": "stdout",
     "output_type": "stream",
     "text": [
      "['about', 'all', 'allowance', 'and', 'are', 'be', 'being', 'blaming', 'but', 'by', 'can', 'deal', \"don't\", 'doubt', 'doubting', 'for', 'give', 'good', 'hated', 'hating', 'head', 'if', 'in', 'it', 'keep', 'lied', 'lies', 'look', 'losing', 'make', 'men', 'nor', 'not', 'on', 'or', 'talk', 'their', 'theirs', 'tired', 'to', 'too', 'trust', 'wait', 'waiting', 'way', 'when', 'wise', 'yet', 'you', 'your', 'yourself']\n"
     ]
    }
   ],
   "source": [
    "# create and sort a list of the dictionary's keys\n",
    "sorted_keys = sorted(set(verse_dict))\n",
    "print(sorted_keys)"
   ]
  },
  {
   "cell_type": "code",
   "execution_count": 12,
   "metadata": {
    "grader_id": "rofk9kdtqg7"
   },
   "outputs": [
    {
     "name": "stdout",
     "output_type": "stream",
     "text": [
      "about\n"
     ]
    }
   ],
   "source": [
    "# get the first element in the sorted list of keys\n",
    "print(sorted_keys[0])"
   ]
  },
  {
   "cell_type": "code",
   "execution_count": 13,
   "metadata": {
    "grader_id": "p6s94ecnahf"
   },
   "outputs": [
    {
     "name": "stdout",
     "output_type": "stream",
     "text": [
      "yourself\n"
     ]
    }
   ],
   "source": [
    "# find the element with the highest value in the list of keys\n",
    "print(max(sorted_keys)) "
   ]
  },
  {
   "cell_type": "code",
   "execution_count": null,
   "metadata": {},
   "outputs": [],
   "source": []
  }
 ],
 "metadata": {
  "grader_mode": "",
  "kernelspec": {
   "display_name": "Python 3",
   "language": "python",
   "name": "python3"
  },
  "language_info": {
   "codemirror_mode": {
    "name": "ipython",
    "version": 3
   },
   "file_extension": ".py",
   "mimetype": "text/x-python",
   "name": "python",
   "nbconvert_exporter": "python",
   "pygments_lexer": "ipython3",
   "version": "3.6.3"
  },
  "showGradeBtn": true
 },
 "nbformat": 4,
 "nbformat_minor": 2
}
