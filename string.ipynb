{
 "cells": [
  {
   "cell_type": "markdown",
   "metadata": {},
   "source": [
    "## Quiz: Fix the Quote\n",
    "The line of code in the following quiz will cause a SyntaxError, thanks to the misuse of quotation marks. First run it with Test Run to view the error message. Then resolve the problem so that the quote (from [Henry Ford](https://www.goodreads.com/author/quotes/203714.Henry_Ford) is correctly assigned to the variable `ford_quote`."
   ]
  },
  {
   "cell_type": "code",
   "execution_count": 3,
   "metadata": {
    "edited": true,
    "gradable": true,
    "grader_id": "nov2oo5y0u",
    "scrolled": true,
    "udacity_user_query": ""
   },
   "outputs": [],
   "source": [
    "# TODO: Fix this string!\n",
    "ford_quote = 'Whether you think you can, or you think you can\\'t--you\\'re right.'"
   ]
  },
  {
   "cell_type": "markdown",
   "metadata": {},
   "source": [
    "## Quiz: Write a Server Log Message\n",
    "In this programming quiz, you’re going to use what you’ve learned about strings to write a logging message for a server.\n",
    "\n",
    "You’ll be provided with example data for a user, the time of their visit and the site they accessed. You should use the variables provided and the techniques you’ve learned to print a log message like this one (with the username, url, and timestamp replaced with values from the appropriate variables):\n",
    "\n",
    "`Yogesh accessed the site http://petshop.com/pets/reptiles/pythons at 16:20.`\n",
    "\n",
    "Use the Test Run button to see your results as you work on coding this piece by piece."
   ]
  },
  {
   "cell_type": "code",
   "execution_count": 5,
   "metadata": {
    "edited": true,
    "gradable": true,
    "grader_id": "hohmuqv9gev",
    "udacity_user_query": ""
   },
   "outputs": [],
   "source": [
    "username = \"Kinari\"\n",
    "timestamp = \"04:50\"\n",
    "url = \"http://petshop.com/pets/mammals/cats\"\n",
    "\n",
    "# TODO: write a log message using the variables above.\n",
    "# The message should have the same format as this one:\n",
    "# \"Yogesh accessed the site http://petshop.com/pets/reptiles/pythons at 16:20.\"\n",
    "\n",
    "message = (username + \" accessed the site \" + url + \" at \" + timestamp + \".\") #replace \"\" with your code"
   ]
  },
  {
   "cell_type": "markdown",
   "metadata": {},
   "source": [
    "## Quiz: `len()`\n",
    "Use string concatenation and the `len()` function to find the length of a certain movie star's actual full name. Store that length in the `name_length` variable. Don't forget that there are spaces in between the different parts of a name!"
   ]
  },
  {
   "cell_type": "code",
   "execution_count": 9,
   "metadata": {
    "edited": true,
    "gradable": true,
    "grader_id": "eabkudss5a9",
    "udacity_user_query": ""
   },
   "outputs": [
    {
     "name": "stdout",
     "output_type": "stream",
     "text": [
      "True\n"
     ]
    }
   ],
   "source": [
    "given_name = \"William\"\n",
    "middle_names = \"Bradley\"\n",
    "family_name = \"Pitt\"\n",
    "# Todo: calculate how long this name is\n",
    "name_length = (len(given_name + \" \" + middle_names + \" \" + family_name)) #replace `None` with your code\n",
    "\n",
    "# Now we check to make sure that the name fits within the driving license character limit\n",
    "# Uncomment the code below. You don't need to make changes to the code.\n",
    "\n",
    "driving_license_character_limit = 28\n",
    "print(name_length <= driving_license_character_limit)"
   ]
  },
  {
   "cell_type": "code",
   "execution_count": null,
   "metadata": {
    "grader_id": "233v0z1grqt"
   },
   "outputs": [],
   "source": []
  }
 ],
 "metadata": {
  "grader_mode": "",
  "kernelspec": {
   "display_name": "Python 3",
   "language": "python",
   "name": "python3"
  },
  "language_info": {
   "codemirror_mode": {
    "name": "ipython",
    "version": 3
   },
   "file_extension": ".py",
   "mimetype": "text/x-python",
   "name": "python",
   "nbconvert_exporter": "python",
   "pygments_lexer": "ipython3",
   "version": "3.6.3"
  },
  "showGradeBtn": true
 },
 "nbformat": 4,
 "nbformat_minor": 2
}
